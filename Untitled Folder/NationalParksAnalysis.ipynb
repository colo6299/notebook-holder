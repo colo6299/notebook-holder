{
 "cells": [
  {
   "cell_type": "markdown",
   "metadata": {
    "slideshow": {
     "slide_type": "slide"
    }
   },
   "source": [
    "# National Park Visitation, 1904 - 2016\n"
   ]
  },
  {
   "cell_type": "code",
   "execution_count": 236,
   "metadata": {
    "slideshow": {
     "slide_type": "skip"
    }
   },
   "outputs": [],
   "source": [
    "import pandas as pd\n",
    "import numpy as np\n",
    "import matplotlib.pyplot as plt\n",
    "import seaborn as sns\n",
    "\n"
   ]
  },
  {
   "cell_type": "code",
   "execution_count": 237,
   "metadata": {
    "slideshow": {
     "slide_type": "slide"
    }
   },
   "outputs": [
    {
     "data": {
      "text/html": [
       "<div>\n",
       "<style scoped>\n",
       "    .dataframe tbody tr th:only-of-type {\n",
       "        vertical-align: middle;\n",
       "    }\n",
       "\n",
       "    .dataframe tbody tr th {\n",
       "        vertical-align: top;\n",
       "    }\n",
       "\n",
       "    .dataframe thead th {\n",
       "        text-align: right;\n",
       "    }\n",
       "</style>\n",
       "<table border=\"1\" class=\"dataframe\">\n",
       "  <thead>\n",
       "    <tr style=\"text-align: right;\">\n",
       "      <th></th>\n",
       "      <th>Created By</th>\n",
       "      <th>Measure Selector</th>\n",
       "      <th>Year</th>\n",
       "      <th>Date Edit</th>\n",
       "      <th>ScrapeURL</th>\n",
       "      <th>GIS Notes</th>\n",
       "      <th>Gnis Id</th>\n",
       "      <th>Geometry</th>\n",
       "      <th>Metadata</th>\n",
       "      <th>Number of Records</th>\n",
       "      <th>Parkname</th>\n",
       "      <th>Region</th>\n",
       "      <th>State</th>\n",
       "      <th>Unit Code</th>\n",
       "      <th>Unit Name</th>\n",
       "      <th>Unit Type</th>\n",
       "      <th>Visitors</th>\n",
       "      <th>YearRaw</th>\n",
       "    </tr>\n",
       "  </thead>\n",
       "  <tbody>\n",
       "    <tr>\n",
       "      <th>0</th>\n",
       "      <td>Legacy</td>\n",
       "      <td>1</td>\n",
       "      <td>1/1/1904 12:00:00 AM</td>\n",
       "      <td>4/22/2015</td>\n",
       "      <td>https://irma.nps.gov/Stats/SSRSReports/Park%20...</td>\n",
       "      <td>LEGACY: contact allen_mccoy@nps.gov for additi...</td>\n",
       "      <td>1163670</td>\n",
       "      <td>POLYGON</td>\n",
       "      <td>NaN</td>\n",
       "      <td>1</td>\n",
       "      <td>Crater Lake</td>\n",
       "      <td>PW</td>\n",
       "      <td>OR</td>\n",
       "      <td>CRLA</td>\n",
       "      <td>Crater Lake National Park</td>\n",
       "      <td>National Park</td>\n",
       "      <td>1500.0</td>\n",
       "      <td>1904</td>\n",
       "    </tr>\n",
       "    <tr>\n",
       "      <th>1</th>\n",
       "      <td>Legacy</td>\n",
       "      <td>1</td>\n",
       "      <td>1/1/1941 12:00:00 AM</td>\n",
       "      <td>4/22/2015</td>\n",
       "      <td>https://irma.nps.gov/Stats/SSRSReports/Park%20...</td>\n",
       "      <td>LEGACY: contact allen_mccoy@nps.gov for additi...</td>\n",
       "      <td>1531834</td>\n",
       "      <td>MULTIPOLYGON</td>\n",
       "      <td>NaN</td>\n",
       "      <td>1</td>\n",
       "      <td>Lake Roosevelt</td>\n",
       "      <td>PW</td>\n",
       "      <td>WA</td>\n",
       "      <td>LARO</td>\n",
       "      <td>Lake Roosevelt National Recreation Area</td>\n",
       "      <td>National Recreation Area</td>\n",
       "      <td>0.0</td>\n",
       "      <td>1941</td>\n",
       "    </tr>\n",
       "    <tr>\n",
       "      <th>2</th>\n",
       "      <td>Legacy</td>\n",
       "      <td>1</td>\n",
       "      <td>1/1/1961 12:00:00 AM</td>\n",
       "      <td>4/22/2015</td>\n",
       "      <td>https://irma.nps.gov/Stats/SSRSReports/Park%20...</td>\n",
       "      <td>LEGACY: contact allen_mccoy@nps.gov for additi...</td>\n",
       "      <td>2055170</td>\n",
       "      <td>MULTIPOLYGON</td>\n",
       "      <td>NaN</td>\n",
       "      <td>1</td>\n",
       "      <td>Lewis and Clark</td>\n",
       "      <td>PW</td>\n",
       "      <td>WA</td>\n",
       "      <td>LEWI</td>\n",
       "      <td>Lewis and Clark National Historical Park</td>\n",
       "      <td>National Historical Park</td>\n",
       "      <td>69000.0</td>\n",
       "      <td>1961</td>\n",
       "    </tr>\n",
       "  </tbody>\n",
       "</table>\n",
       "</div>"
      ],
      "text/plain": [
       "  Created By  Measure Selector                  Year  Date Edit  \\\n",
       "0     Legacy                 1  1/1/1904 12:00:00 AM  4/22/2015   \n",
       "1     Legacy                 1  1/1/1941 12:00:00 AM  4/22/2015   \n",
       "2     Legacy                 1  1/1/1961 12:00:00 AM  4/22/2015   \n",
       "\n",
       "                                           ScrapeURL  \\\n",
       "0  https://irma.nps.gov/Stats/SSRSReports/Park%20...   \n",
       "1  https://irma.nps.gov/Stats/SSRSReports/Park%20...   \n",
       "2  https://irma.nps.gov/Stats/SSRSReports/Park%20...   \n",
       "\n",
       "                                           GIS Notes  Gnis Id      Geometry  \\\n",
       "0  LEGACY: contact allen_mccoy@nps.gov for additi...  1163670       POLYGON   \n",
       "1  LEGACY: contact allen_mccoy@nps.gov for additi...  1531834  MULTIPOLYGON   \n",
       "2  LEGACY: contact allen_mccoy@nps.gov for additi...  2055170  MULTIPOLYGON   \n",
       "\n",
       "  Metadata  Number of Records         Parkname Region State Unit Code  \\\n",
       "0      NaN                  1      Crater Lake     PW    OR      CRLA   \n",
       "1      NaN                  1   Lake Roosevelt     PW    WA      LARO   \n",
       "2      NaN                  1  Lewis and Clark     PW    WA      LEWI   \n",
       "\n",
       "                                  Unit Name                 Unit Type  \\\n",
       "0                 Crater Lake National Park             National Park   \n",
       "1   Lake Roosevelt National Recreation Area  National Recreation Area   \n",
       "2  Lewis and Clark National Historical Park  National Historical Park   \n",
       "\n",
       "   Visitors YearRaw  \n",
       "0    1500.0    1904  \n",
       "1       0.0    1941  \n",
       "2   69000.0    1961  "
      ]
     },
     "execution_count": 237,
     "metadata": {},
     "output_type": "execute_result"
    }
   ],
   "source": [
    "df = pd.read_csv('All National Parks Visitation 1904-2016.csv')\n",
    "df.head(3)"
   ]
  },
  {
   "cell_type": "markdown",
   "metadata": {
    "slideshow": {
     "slide_type": "subslide"
    }
   },
   "source": [
    "### Data is well organized, but full of unneccesary / obstructive data\n",
    "\n",
    "A quick cleanup is neccesary."
   ]
  },
  {
   "cell_type": "code",
   "execution_count": 238,
   "metadata": {
    "slideshow": {
     "slide_type": "subslide"
    }
   },
   "outputs": [],
   "source": [
    "df = df.drop(columns=['Created By', 'Parkname', 'Measure Selector', 'Year', 'Number of Records', 'Date Edit', 'ScrapeURL', 'GIS Notes', 'Gnis Id', 'Geometry', 'Metadata'])\n",
    "df = df.sort_values('YearRaw')"
   ]
  },
  {
   "cell_type": "markdown",
   "metadata": {
    "slideshow": {
     "slide_type": "slide"
    }
   },
   "source": [
    "## Nice."
   ]
  },
  {
   "cell_type": "code",
   "execution_count": 239,
   "metadata": {
    "slideshow": {
     "slide_type": "subslide"
    }
   },
   "outputs": [
    {
     "data": {
      "text/html": [
       "<div>\n",
       "<style scoped>\n",
       "    .dataframe tbody tr th:only-of-type {\n",
       "        vertical-align: middle;\n",
       "    }\n",
       "\n",
       "    .dataframe tbody tr th {\n",
       "        vertical-align: top;\n",
       "    }\n",
       "\n",
       "    .dataframe thead th {\n",
       "        text-align: right;\n",
       "    }\n",
       "</style>\n",
       "<table border=\"1\" class=\"dataframe\">\n",
       "  <thead>\n",
       "    <tr style=\"text-align: right;\">\n",
       "      <th></th>\n",
       "      <th>Region</th>\n",
       "      <th>State</th>\n",
       "      <th>Unit Code</th>\n",
       "      <th>Unit Name</th>\n",
       "      <th>Unit Type</th>\n",
       "      <th>Visitors</th>\n",
       "      <th>YearRaw</th>\n",
       "    </tr>\n",
       "  </thead>\n",
       "  <tbody>\n",
       "    <tr>\n",
       "      <th>0</th>\n",
       "      <td>PW</td>\n",
       "      <td>OR</td>\n",
       "      <td>CRLA</td>\n",
       "      <td>Crater Lake National Park</td>\n",
       "      <td>National Park</td>\n",
       "      <td>1500.0</td>\n",
       "      <td>1904</td>\n",
       "    </tr>\n",
       "    <tr>\n",
       "      <th>345</th>\n",
       "      <td>MW</td>\n",
       "      <td>AR</td>\n",
       "      <td>HOSP</td>\n",
       "      <td>Hot Springs National Park</td>\n",
       "      <td>National Park</td>\n",
       "      <td>101000.0</td>\n",
       "      <td>1904</td>\n",
       "    </tr>\n",
       "    <tr>\n",
       "      <th>339</th>\n",
       "      <td>MW</td>\n",
       "      <td>SD</td>\n",
       "      <td>WICA</td>\n",
       "      <td>Wind Cave National Park</td>\n",
       "      <td>National Park</td>\n",
       "      <td>2900.0</td>\n",
       "      <td>1904</td>\n",
       "    </tr>\n",
       "    <tr>\n",
       "      <th>315</th>\n",
       "      <td>PW</td>\n",
       "      <td>WA</td>\n",
       "      <td>MORA</td>\n",
       "      <td>Mount Rainier National Park</td>\n",
       "      <td>National Park</td>\n",
       "      <td>563.0</td>\n",
       "      <td>1904</td>\n",
       "    </tr>\n",
       "    <tr>\n",
       "      <th>206</th>\n",
       "      <td>PW</td>\n",
       "      <td>CA</td>\n",
       "      <td>KICA</td>\n",
       "      <td>Kings Canyon National Park</td>\n",
       "      <td>National Park</td>\n",
       "      <td>1000.0</td>\n",
       "      <td>1904</td>\n",
       "    </tr>\n",
       "  </tbody>\n",
       "</table>\n",
       "</div>"
      ],
      "text/plain": [
       "    Region State Unit Code                    Unit Name      Unit Type  \\\n",
       "0       PW    OR      CRLA    Crater Lake National Park  National Park   \n",
       "345     MW    AR      HOSP    Hot Springs National Park  National Park   \n",
       "339     MW    SD      WICA      Wind Cave National Park  National Park   \n",
       "315     PW    WA      MORA  Mount Rainier National Park  National Park   \n",
       "206     PW    CA      KICA   Kings Canyon National Park  National Park   \n",
       "\n",
       "     Visitors YearRaw  \n",
       "0      1500.0    1904  \n",
       "345  101000.0    1904  \n",
       "339    2900.0    1904  \n",
       "315     563.0    1904  \n",
       "206    1000.0    1904  "
      ]
     },
     "execution_count": 239,
     "metadata": {},
     "output_type": "execute_result"
    }
   ],
   "source": [
    "df.head()"
   ]
  },
  {
   "cell_type": "markdown",
   "metadata": {},
   "source": [
    "## How many different national parks are there?"
   ]
  },
  {
   "cell_type": "code",
   "execution_count": 240,
   "metadata": {},
   "outputs": [],
   "source": [
    "df = df[df['Unit Type'] == 'National Park']"
   ]
  },
  {
   "cell_type": "code",
   "execution_count": 241,
   "metadata": {
    "slideshow": {
     "slide_type": "subslide"
    }
   },
   "outputs": [
    {
     "data": {
      "text/plain": [
       "61"
      ]
     },
     "execution_count": 241,
     "metadata": {},
     "output_type": "execute_result"
    }
   ],
   "source": [
    "df['Unit Name'].nunique()"
   ]
  },
  {
   "cell_type": "markdown",
   "metadata": {
    "slideshow": {
     "slide_type": "slide"
    }
   },
   "source": [
    "## Which states have the most national parks?"
   ]
  },
  {
   "cell_type": "markdown",
   "metadata": {
    "slideshow": {
     "slide_type": "skip"
    }
   },
   "source": [
    "\n"
   ]
  },
  {
   "cell_type": "code",
   "execution_count": 320,
   "metadata": {
    "slideshow": {
     "slide_type": "subslide"
    }
   },
   "outputs": [
    {
     "data": {
      "text/plain": [
       "State\n",
       "CA    9\n",
       "AK    8\n",
       "UT    5\n",
       "CO    4\n",
       "WA    3\n",
       "Name: Unit Code, dtype: int64"
      ]
     },
     "execution_count": 320,
     "metadata": {},
     "output_type": "execute_result"
    }
   ],
   "source": [
    "sf = df.groupby('State').apply(lambda lf: lf.nunique()).sort_values(['Unit Code'], ascending=False)['Unit Code']\n",
    "sf.head()"
   ]
  },
  {
   "cell_type": "markdown",
   "metadata": {
    "slideshow": {
     "slide_type": "subslide"
    }
   },
   "source": [
    "A quick look tells us that sunny California is the winner, with 9 national parks! "
   ]
  },
  {
   "cell_type": "code",
   "execution_count": 321,
   "metadata": {},
   "outputs": [],
   "source": [
    "sf = sf.reset_index()"
   ]
  },
  {
   "cell_type": "code",
   "execution_count": 327,
   "metadata": {},
   "outputs": [],
   "source": [
    "sf = sf.sort_values('Unit Code', ascending=False)"
   ]
  },
  {
   "cell_type": "code",
   "execution_count": 329,
   "metadata": {
    "slideshow": {
     "slide_type": "subslide"
    }
   },
   "outputs": [
    {
     "data": {
      "text/plain": [
       "<function matplotlib.pyplot.show>"
      ]
     },
     "execution_count": 329,
     "metadata": {},
     "output_type": "execute_result"
    },
    {
     "data": {
      "image/png": "[encoded data removed]",
      "text/plain": [
       "<matplotlib.figure.Figure at 0x1de4f20d400>"
      ]
     },
     "metadata": {},
     "output_type": "display_data"
    }
   ],
   "source": [
    "plt.bar(height=sf['Unit Code'], x=sf['State'])\n",
    "plt.xticks(rotation='vertical')\n",
    "plt.show"
   ]
  },
  {
   "cell_type": "code",
   "execution_count": 245,
   "metadata": {
    "slideshow": {
     "slide_type": "skip"
    }
   },
   "outputs": [
    {
     "data": {
      "text/html": [
       "<div>\n",
       "<style scoped>\n",
       "    .dataframe tbody tr th:only-of-type {\n",
       "        vertical-align: middle;\n",
       "    }\n",
       "\n",
       "    .dataframe tbody tr th {\n",
       "        vertical-align: top;\n",
       "    }\n",
       "\n",
       "    .dataframe thead th {\n",
       "        text-align: right;\n",
       "    }\n",
       "</style>\n",
       "<table border=\"1\" class=\"dataframe\">\n",
       "  <thead>\n",
       "    <tr style=\"text-align: right;\">\n",
       "      <th></th>\n",
       "      <th>Region</th>\n",
       "      <th>State</th>\n",
       "      <th>Unit Code</th>\n",
       "      <th>Unit Name</th>\n",
       "      <th>Unit Type</th>\n",
       "      <th>Visitors</th>\n",
       "      <th>YearRaw</th>\n",
       "    </tr>\n",
       "  </thead>\n",
       "  <tbody>\n",
       "    <tr>\n",
       "      <th>0</th>\n",
       "      <td>PW</td>\n",
       "      <td>OR</td>\n",
       "      <td>CRLA</td>\n",
       "      <td>Crater Lake National Park</td>\n",
       "      <td>National Park</td>\n",
       "      <td>1500.0</td>\n",
       "      <td>1904</td>\n",
       "    </tr>\n",
       "    <tr>\n",
       "      <th>345</th>\n",
       "      <td>MW</td>\n",
       "      <td>AR</td>\n",
       "      <td>HOSP</td>\n",
       "      <td>Hot Springs National Park</td>\n",
       "      <td>National Park</td>\n",
       "      <td>101000.0</td>\n",
       "      <td>1904</td>\n",
       "    </tr>\n",
       "    <tr>\n",
       "      <th>339</th>\n",
       "      <td>MW</td>\n",
       "      <td>SD</td>\n",
       "      <td>WICA</td>\n",
       "      <td>Wind Cave National Park</td>\n",
       "      <td>National Park</td>\n",
       "      <td>2900.0</td>\n",
       "      <td>1904</td>\n",
       "    </tr>\n",
       "    <tr>\n",
       "      <th>315</th>\n",
       "      <td>PW</td>\n",
       "      <td>WA</td>\n",
       "      <td>MORA</td>\n",
       "      <td>Mount Rainier National Park</td>\n",
       "      <td>National Park</td>\n",
       "      <td>563.0</td>\n",
       "      <td>1904</td>\n",
       "    </tr>\n",
       "    <tr>\n",
       "      <th>206</th>\n",
       "      <td>PW</td>\n",
       "      <td>CA</td>\n",
       "      <td>KICA</td>\n",
       "      <td>Kings Canyon National Park</td>\n",
       "      <td>National Park</td>\n",
       "      <td>1000.0</td>\n",
       "      <td>1904</td>\n",
       "    </tr>\n",
       "  </tbody>\n",
       "</table>\n",
       "</div>"
      ],
      "text/plain": [
       "    Region State Unit Code                    Unit Name      Unit Type  \\\n",
       "0       PW    OR      CRLA    Crater Lake National Park  National Park   \n",
       "345     MW    AR      HOSP    Hot Springs National Park  National Park   \n",
       "339     MW    SD      WICA      Wind Cave National Park  National Park   \n",
       "315     PW    WA      MORA  Mount Rainier National Park  National Park   \n",
       "206     PW    CA      KICA   Kings Canyon National Park  National Park   \n",
       "\n",
       "     Visitors YearRaw  \n",
       "0      1500.0    1904  \n",
       "345  101000.0    1904  \n",
       "339    2900.0    1904  \n",
       "315     563.0    1904  \n",
       "206    1000.0    1904  "
      ]
     },
     "execution_count": 245,
     "metadata": {},
     "output_type": "execute_result"
    }
   ],
   "source": [
    "df.head()"
   ]
  },
  {
   "cell_type": "code",
   "execution_count": 246,
   "metadata": {
    "slideshow": {
     "slide_type": "slide"
    }
   },
   "outputs": [
    {
     "data": {
      "text/html": [
       "<div>\n",
       "<style scoped>\n",
       "    .dataframe tbody tr th:only-of-type {\n",
       "        vertical-align: middle;\n",
       "    }\n",
       "\n",
       "    .dataframe tbody tr th {\n",
       "        vertical-align: top;\n",
       "    }\n",
       "\n",
       "    .dataframe thead th {\n",
       "        text-align: right;\n",
       "    }\n",
       "</style>\n",
       "<table border=\"1\" class=\"dataframe\">\n",
       "  <thead>\n",
       "    <tr style=\"text-align: right;\">\n",
       "      <th></th>\n",
       "      <th>YearRaw</th>\n",
       "      <th>Visitors</th>\n",
       "    </tr>\n",
       "  </thead>\n",
       "  <tbody>\n",
       "    <tr>\n",
       "      <th>0</th>\n",
       "      <td>1904</td>\n",
       "      <td>120690.0</td>\n",
       "    </tr>\n",
       "    <tr>\n",
       "      <th>1</th>\n",
       "      <td>1905</td>\n",
       "      <td>140954.0</td>\n",
       "    </tr>\n",
       "    <tr>\n",
       "      <th>2</th>\n",
       "      <td>1906</td>\n",
       "      <td>30569.0</td>\n",
       "    </tr>\n",
       "    <tr>\n",
       "      <th>3</th>\n",
       "      <td>1907</td>\n",
       "      <td>32935.0</td>\n",
       "    </tr>\n",
       "    <tr>\n",
       "      <th>4</th>\n",
       "      <td>1908</td>\n",
       "      <td>42768.0</td>\n",
       "    </tr>\n",
       "  </tbody>\n",
       "</table>\n",
       "</div>"
      ],
      "text/plain": [
       "  YearRaw  Visitors\n",
       "0    1904  120690.0\n",
       "1    1905  140954.0\n",
       "2    1906   30569.0\n",
       "3    1907   32935.0\n",
       "4    1908   42768.0"
      ]
     },
     "execution_count": 246,
     "metadata": {},
     "output_type": "execute_result"
    }
   ],
   "source": [
    "yearly_totals = df.groupby(['YearRaw']).sum()\n",
    "yearly_totals = yearly_totals.reset_index()\n",
    "yearly_totals = yearly_totals.drop(index=len(yearly_totals) - 1)\n",
    "yearly_totals.head()"
   ]
  },
  {
   "cell_type": "code",
   "execution_count": null,
   "metadata": {
    "slideshow": {
     "slide_type": "skip"
    }
   },
   "outputs": [],
   "source": [
    "\n"
   ]
  },
  {
   "cell_type": "code",
   "execution_count": 283,
   "metadata": {
    "slideshow": {
     "slide_type": "skip"
    }
   },
   "outputs": [],
   "source": [
    "def plotrange(spacing):\n",
    "    rl = []\n",
    "    rl2 = [[], []]\n",
    "    for i in range(int(df['YearRaw'].values[1]), int(df['YearRaw'].values[-62]), spacing):\n",
    "        rl.append(i)\n",
    "    for index, year in enumerate(rl):\n",
    "        rl2[0].append(index * spacing)\n",
    "        rl2[1].append(year)\n",
    "    return rl2"
   ]
  },
  {
   "cell_type": "markdown",
   "metadata": {},
   "source": [
    "## Overall national park visitation\n",
    "\n",
    "A clear dip is seen at roughly 1939-45, likely corresponding to WWII\n",
    "\n",
    "A much longer dip can be seen from ~2001 - ~2010, which I'd guess is a combination of the effects \n",
    "of September 11 and the market crash of 2008"
   ]
  },
  {
   "cell_type": "code",
   "execution_count": 284,
   "metadata": {
    "slideshow": {
     "slide_type": "slide"
    }
   },
   "outputs": [
    {
     "data": {
      "text/plain": [
       "<function matplotlib.pyplot.show>"
      ]
     },
     "execution_count": 284,
     "metadata": {},
     "output_type": "execute_result"
    },
    {
     "data": {
      "image/png": "[encoded data removed]",
      "text/plain": [
       "<matplotlib.figure.Figure at 0x1de4dc47b38>"
      ]
     },
     "metadata": {},
     "output_type": "display_data"
    }
   ],
   "source": [
    "yearly_totals.plot(x='YearRaw', y='Visitors')\n",
    "plt.xticks(plotrange(10)[0], plotrange(10)[1])\n",
    "plt.show"
   ]
  },
  {
   "cell_type": "code",
   "execution_count": 285,
   "metadata": {
    "slideshow": {
     "slide_type": "skip"
    }
   },
   "outputs": [
    {
     "data": {
      "text/plain": [
       "<function matplotlib.pyplot.show>"
      ]
     },
     "execution_count": 285,
     "metadata": {},
     "output_type": "execute_result"
    },
    {
     "data": {
      "image/png": "[encoded data removed]",
      "text/plain": [
       "<matplotlib.figure.Figure at 0x1de4dc13198>"
      ]
     },
     "metadata": {},
     "output_type": "display_data"
    }
   ],
   "source": [
    "sns.regplot(x=yearly_totals['YearRaw'], y=yearly_totals['Visitors'], fit_reg=False)\n",
    "plt.xticks(plotrange(10)[0], plotrange(10)[1])\n",
    "plt.show"
   ]
  },
  {
   "cell_type": "markdown",
   "metadata": {
    "slideshow": {
     "slide_type": "slide"
    }
   },
   "source": [
    "### Quick function for totals per park:"
   ]
  },
  {
   "cell_type": "code",
   "execution_count": 286,
   "metadata": {
    "slideshow": {
     "slide_type": "subslide"
    }
   },
   "outputs": [],
   "source": [
    "def yearly_loc(df, park):\n",
    "    yearly_totals = df[df['Unit Name'] == park].groupby(['YearRaw']).sum()\n",
    "    yearly_totals = yearly_totals.reset_index()\n",
    "    yearly_totals = yearly_totals.drop(index=len(yearly_totals) - 1)\n",
    "    return yearly_totals"
   ]
  },
  {
   "cell_type": "code",
   "execution_count": 287,
   "metadata": {},
   "outputs": [
    {
     "name": "stdout",
     "output_type": "stream",
     "text": [
      "[[0, 10, 20, 30, 40, 50, 60, 70, 80, 90, 100, 110], [1904, 1914, 1924, 1934, 1944, 1954, 1964, 1974, 1984, 1994, 2004, 2014]]\n"
     ]
    }
   ],
   "source": [
    "print(plotrange(10))"
   ]
  },
  {
   "cell_type": "code",
   "execution_count": 288,
   "metadata": {},
   "outputs": [
    {
     "data": {
      "text/plain": [
       "<function matplotlib.pyplot.show>"
      ]
     },
     "execution_count": 288,
     "metadata": {},
     "output_type": "execute_result"
    },
    {
     "data": {
      "image/png": "[encoded data removed]",
      "text/plain": [
       "<matplotlib.figure.Figure at 0x1de4dc13f28>"
      ]
     },
     "metadata": {},
     "output_type": "display_data"
    }
   ],
   "source": [
    "\n",
    "plt.plot( 'YearRaw', 'Visitors', data=yearly_totals)\n",
    "plt.xticks(plotrange(10)[0], plotrange(10)[1])\n",
    "plt.show"
   ]
  },
  {
   "cell_type": "code",
   "execution_count": 289,
   "metadata": {},
   "outputs": [
    {
     "data": {
      "text/plain": [
       "<function matplotlib.pyplot.show>"
      ]
     },
     "execution_count": 289,
     "metadata": {},
     "output_type": "execute_result"
    },
    {
     "data": {
      "image/png": "[encoded data removed]",
      "text/plain": [
       "<matplotlib.figure.Figure at 0x1de4dc1a668>"
      ]
     },
     "metadata": {},
     "output_type": "display_data"
    }
   ],
   "source": [
    "plt.plot('YearRaw', 'Visitors', data=yearly_loc(df, 'Wind Cave National Park'))\n",
    "plt.xticks(plotrange(10)[0], plotrange(10)[1])\n",
    "plt.show"
   ]
  },
  {
   "cell_type": "code",
   "execution_count": null,
   "metadata": {},
   "outputs": [],
   "source": []
  },
  {
   "cell_type": "code",
   "execution_count": null,
   "metadata": {},
   "outputs": [],
   "source": []
  },
  {
   "cell_type": "code",
   "execution_count": null,
   "metadata": {},
   "outputs": [],
   "source": []
  }
 ],
 "metadata": {
  "celltoolbar": "Slideshow",
  "kernelspec": {
   "display_name": "Python 3",
   "language": "python",
   "name": "python3"
  },
  "language_info": {
   "codemirror_mode": {
    "name": "ipython",
    "version": 3
   },
   "file_extension": ".py",
   "mimetype": "text/x-python",
   "name": "python",
   "nbconvert_exporter": "python",
   "pygments_lexer": "ipython3",
   "version": "3.6.4"
  }
 },
 "nbformat": 4,
 "nbformat_minor": 2
}
